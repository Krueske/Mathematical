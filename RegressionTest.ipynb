{
 "cells": [
  {
   "cell_type": "markdown",
   "id": "358b98ec",
   "metadata": {},
   "source": [
    "### 数据预处理\n",
    "#### 1、缺失值填充\n",
    "1、均值填充法"
   ]
  },
  {
   "cell_type": "code",
   "execution_count": 6,
   "id": "cefe49b0",
   "metadata": {},
   "outputs": [
    {
     "data": {
      "text/html": [
       "<div>\n",
       "<style scoped>\n",
       "    .dataframe tbody tr th:only-of-type {\n",
       "        vertical-align: middle;\n",
       "    }\n",
       "\n",
       "    .dataframe tbody tr th {\n",
       "        vertical-align: top;\n",
       "    }\n",
       "\n",
       "    .dataframe thead th {\n",
       "        text-align: right;\n",
       "    }\n",
       "</style>\n",
       "<table border=\"1\" class=\"dataframe\">\n",
       "  <thead>\n",
       "    <tr style=\"text-align: right;\">\n",
       "      <th></th>\n",
       "      <th>0</th>\n",
       "      <th>1</th>\n",
       "      <th>2</th>\n",
       "    </tr>\n",
       "  </thead>\n",
       "  <tbody>\n",
       "    <tr>\n",
       "      <th>0</th>\n",
       "      <td>1.0</td>\n",
       "      <td>2</td>\n",
       "      <td>3.0</td>\n",
       "    </tr>\n",
       "    <tr>\n",
       "      <th>1</th>\n",
       "      <td>1.0</td>\n",
       "      <td>4</td>\n",
       "      <td>6.0</td>\n",
       "    </tr>\n",
       "    <tr>\n",
       "      <th>2</th>\n",
       "      <td>1.0</td>\n",
       "      <td>3</td>\n",
       "      <td>4.5</td>\n",
       "    </tr>\n",
       "  </tbody>\n",
       "</table>\n",
       "</div>"
      ],
      "text/plain": [
       "     0  1    2\n",
       "0  1.0  2  3.0\n",
       "1  1.0  4  6.0\n",
       "2  1.0  3  4.5"
      ]
     },
     "execution_count": 6,
     "metadata": {},
     "output_type": "execute_result"
    }
   ],
   "source": [
    "import pandas as pd\n",
    "import numpy as np\n",
    "from numpy import nan as NaN\n",
    "df = pd.DataFrame([[1,2,3],[NaN,4,6],[NaN,3,NaN]])\n",
    "print(df)\n",
    "for column in list(df.columns[df.isnull().sum() > 0]):\n",
    "    mean_val = df[column].mean()\n",
    "    df[column].fillna(mean_val, inplace=True)\n",
    "df"
   ]
  },
  {
   "cell_type": "markdown",
   "id": "464b3805",
   "metadata": {},
   "source": [
    "2、回归填充法\n",
    "使用sklearn库的函数IterativeImputer,下面代码的estimator参数为选择缺失值填补算法"
   ]
  },
  {
   "cell_type": "code",
   "execution_count": 10,
   "id": "27b3a163",
   "metadata": {},
   "outputs": [
    {
     "data": {
      "text/plain": [
       "array([[-1.9976995 ,  2.        ,  3.        ],\n",
       "       [ 4.        ,  4.        ,  6.        ],\n",
       "       [10.        ,  6.00061061,  9.        ]])"
      ]
     },
     "execution_count": 10,
     "metadata": {},
     "output_type": "execute_result"
    }
   ],
   "source": [
    "from sklearn.experimental import enable_iterative_imputer\n",
    "from sklearn.impute import IterativeImputer\n",
    "from sklearn.linear_model import BayesianRidge\n",
    "imp_mean = IterativeImputer(estimator=BayesianRidge())             \n",
    "X = [[np.nan, 2, 3], \n",
    "     [4, 4, 6], \n",
    "     [10, np.nan, 9]]\n",
    "imp_mean.fit(X)\n",
    "imp_mean.transform(X)"
   ]
  },
  {
   "cell_type": "markdown",
   "id": "c9e1f48d",
   "metadata": {},
   "source": [
    "3、k近邻填充法"
   ]
  },
  {
   "cell_type": "code",
   "execution_count": 11,
   "id": "e5a72844",
   "metadata": {},
   "outputs": [
    {
     "data": {
      "text/plain": [
       "array([[1. , 2. , 4. ],\n",
       "       [3. , 4. , 3. ],\n",
       "       [5.5, 6. , 5. ],\n",
       "       [8. , 8. , 7. ]])"
      ]
     },
     "execution_count": 11,
     "metadata": {},
     "output_type": "execute_result"
    }
   ],
   "source": [
    "from sklearn.impute import KNNImputer\n",
    "# 代码取自Sklearn用户指南\n",
    "X = [[1, 2, np.nan], \n",
    "     [3, 4, 3], \n",
    "     [np.nan, 6, 5], \n",
    "     [8, 8, 7]]\n",
    "imputer = KNNImputer(n_neighbors=2)\n",
    "imputer.fit_transform(X)"
   ]
  },
  {
   "cell_type": "markdown",
   "id": "7c471b28",
   "metadata": {},
   "source": [
    "#### 2、异常值检测"
   ]
  },
  {
   "cell_type": "markdown",
   "id": "ac32926d",
   "metadata": {},
   "source": [
    "1、3$\\sigma$准则（需要数据满足正态分布）\n",
    "下面函数输入为需要检测的一列数据，输出为异常值及其所在行数"
   ]
  },
  {
   "cell_type": "code",
   "execution_count": null,
   "id": "776b9645",
   "metadata": {},
   "outputs": [],
   "source": [
    "import numpy as np\n",
    "import pandas as pd\n",
    "def three_sigma(ser):\n",
    "    '''\n",
    "    ser参数：被检测的数据，接收DataFrame的一列数据\n",
    "    返回：异常值及其对应的行索引\n",
    "    '''\n",
    "    # 计算平均值\n",
    "    mean_data=ser.mean()\n",
    "    # 计算标准差\n",
    "    std_data=ser.std()\n",
    "    # 小于μ-3σ或大于μ+3σ的数据均为异常值\n",
    "    rule=(mean_data-3*std_data > ser) | (mean_data+3*std_data < ser)\n",
    "    # 然后np.arange方法生成一个从0开始，到ser长度-1结束的连续索引，再根据rule列表中的True值，直接保留所有为True的索引，也就是异常值的行索引\n",
    "    index=np.arange(ser.shape[0])[rule]\n",
    "    # 获取异常值\n",
    "    outliers=ser.iloc[index]\n",
    "    return outliers"
   ]
  },
  {
   "cell_type": "markdown",
   "id": "fe134280",
   "metadata": {},
   "source": [
    "2、箱型线检测法\n",
    "分两步：（1）、绘制箱型线图（2）、找到异常值"
   ]
  },
  {
   "cell_type": "code",
   "execution_count": 16,
   "id": "db545e45",
   "metadata": {},
   "outputs": [
    {
     "data": {
      "text/plain": [
       "2   -100\n",
       "6    200\n",
       "Name: Score, dtype: int64"
      ]
     },
     "execution_count": 16,
     "metadata": {},
     "output_type": "execute_result"
    },
    {
     "data": {
      "image/png": "[encoded data removed]",
      "text/plain": [
       "<Figure size 432x288 with 1 Axes>"
      ]
     },
     "metadata": {
      "needs_background": "light"
     },
     "output_type": "display_data"
    }
   ],
   "source": [
    "import pandas as pd\n",
    "\n",
    "def box_outliers(ser):\n",
    "    #对待检测的数据集进行排序\n",
    "    new_ser=ser.sort_values()\n",
    "    # 判断数据的总数量是奇数还是偶数\n",
    "    if new_ser.count()%2==0 :\n",
    "        #计算Q3，Q1,IQR\n",
    "        Q3=new_ser[int(len(new_ser)/2):].median()\n",
    "        Q1=new_ser[:int(len(new_ser)/2)].median()\n",
    "    elif new_ser.count()%2 !=0 :\n",
    "        Q3=new_ser[int(len(new_ser)/2-1):].median()\n",
    "        Q1=new_ser[:int(len(new_ser)/2-1)].median()\n",
    "    IQR=round(Q3-Q1,1)\n",
    "    rule=(round(Q3+1.5*IQR,1)<ser) | (round(Q1-1.5*IQR,1)>ser)\n",
    "    index=np.arange(ser.shape[0])[rule]\n",
    "    #获取异常值及其索引\n",
    "    outliers=ser.iloc[index]\n",
    "    return outliers\n",
    "\n",
    "\n",
    "data = pd.DataFrame({\n",
    "    'Number':[0,1,2,3,4,5,6,7,8,9,10,11,12,13,14,15],\n",
    "    'Score':[86,67,-100,62,79,84,200,82,80,90,72,79,79,75,71,79]\n",
    "})\n",
    "data.boxplot(column='Score')\n",
    "box_outliers(data['Score'])\n"
   ]
  },
  {
   "cell_type": "markdown",
   "id": "c5be79ea",
   "metadata": {},
   "source": [
    "## 回归分析"
   ]
  },
  {
   "cell_type": "markdown",
   "id": "c2f42834",
   "metadata": {},
   "source": [
    "### 数据检验"
   ]
  },
  {
   "cell_type": "markdown",
   "id": "a6d0fec8",
   "metadata": {},
   "source": [
    "#### 1、多重共线性检验\n",
    "检测模型中自变量之间是否存在较高的线性相关关系，若存在会给模型带来严重的后果。其检验可以通过方差膨胀因子VIF来鉴定。\n",
    "该方法分别以每个解释变量为被解释变量，作与其他解释变量的回归。以为$X_j$被解释变量作对其他解释变量辅助线性回归的可决系数用$R_j^2$表示，解释变量$X_j$参数估计值$\\hat{\\beta _j}$的方差可表示为\n",
    "$$\n",
    "Var(\\hat{\\beta _j}) = \\dfrac{\\sigma ^2}{\\sum x_j^2}\\dfrac{1}{1-R_j^2}=\\dfrac{\\sigma ^2}{\\sum x_j^2}VIF_j\n",
    "$$\n",
    "其中$VIF_j$是变量$X_j$的方差扩大因子，即\n",
    "$$\n",
    "VIF_j=\\dfrac{1}{1-R_j^2}\n",
    "$$\n",
    "一般来说，若$VIF_j\\geq 10$，则说明该解释变量与其余解释变量之间有比较严重的多重共线性。"
   ]
  },
  {
   "cell_type": "code",
   "execution_count": 6,
   "id": "b5aecb07",
   "metadata": {},
   "outputs": [
    {
     "name": "stdout",
     "output_type": "stream",
     "text": [
      "      CRIM    ZN  INDUS  CHAS    NOX     RM   AGE     DIS  RAD    TAX  \\\n",
      "0  0.00632  18.0   2.31   0.0  0.538  6.575  65.2  4.0900  1.0  296.0   \n",
      "1  0.02731   0.0   7.07   0.0  0.469  6.421  78.9  4.9671  2.0  242.0   \n",
      "2  0.02729   0.0   7.07   0.0  0.469  7.185  61.1  4.9671  2.0  242.0   \n",
      "\n",
      "   PTRATTO       B  LSTAT  MEDV  \n",
      "0     15.3  396.90   4.98  24.0  \n",
      "1     17.8  396.90   9.14  21.6  \n",
      "2     17.8  392.83   4.03  34.7  \n"
     ]
    }
   ],
   "source": [
    "from sklearn import datasets\n",
    "from sklearn import model_selection\n",
    "import statsmodels.api as sm\n",
    "import pandas as pd\n",
    "import numpy as np\n",
    "import matplotlib.pyplot as plt\n",
    "from sklearn import preprocessing\n",
    "boston_data = datasets.load_boston()\n",
    "data = pd.DataFrame(boston_data.data)\n",
    "data.columns = ['CRIM','ZN','INDUS','CHAS','NOX','RM','AGE','DIS','RAD','TAX','PTRATTO','B','LSTAT']\n",
    "target = pd.DataFrame(boston_data.target)\n",
    "target.columns = ['MEDV']\n",
    "data_boston = pd.concat([data,target],axis=1)\n",
    "print(data_boston.head(3))"
   ]
  },
  {
   "cell_type": "code",
   "execution_count": 7,
   "id": "043b4566",
   "metadata": {},
   "outputs": [
    {
     "name": "stderr",
     "output_type": "stream",
     "text": [
      "C:\\Users\\22910\\anaconda3\\lib\\site-packages\\statsmodels\\tsa\\tsatools.py:142: FutureWarning: In a future version of pandas all arguments of concat except for the argument 'objs' will be keyword-only\n",
      "  x = pd.concat(x[::order], 1)\n"
     ]
    },
    {
     "data": {
      "text/html": [
       "<div>\n",
       "<style scoped>\n",
       "    .dataframe tbody tr th:only-of-type {\n",
       "        vertical-align: middle;\n",
       "    }\n",
       "\n",
       "    .dataframe tbody tr th {\n",
       "        vertical-align: top;\n",
       "    }\n",
       "\n",
       "    .dataframe thead th {\n",
       "        text-align: right;\n",
       "    }\n",
       "</style>\n",
       "<table border=\"1\" class=\"dataframe\">\n",
       "  <thead>\n",
       "    <tr style=\"text-align: right;\">\n",
       "      <th></th>\n",
       "      <th>features</th>\n",
       "      <th>VIF Factor</th>\n",
       "    </tr>\n",
       "  </thead>\n",
       "  <tbody>\n",
       "    <tr>\n",
       "      <th>0</th>\n",
       "      <td>const</td>\n",
       "      <td>585.265238</td>\n",
       "    </tr>\n",
       "    <tr>\n",
       "      <th>1</th>\n",
       "      <td>CRIM</td>\n",
       "      <td>1.792192</td>\n",
       "    </tr>\n",
       "    <tr>\n",
       "      <th>2</th>\n",
       "      <td>ZN</td>\n",
       "      <td>2.298758</td>\n",
       "    </tr>\n",
       "    <tr>\n",
       "      <th>3</th>\n",
       "      <td>INDUS</td>\n",
       "      <td>3.991596</td>\n",
       "    </tr>\n",
       "    <tr>\n",
       "      <th>4</th>\n",
       "      <td>CHAS</td>\n",
       "      <td>1.073995</td>\n",
       "    </tr>\n",
       "    <tr>\n",
       "      <th>5</th>\n",
       "      <td>NOX</td>\n",
       "      <td>4.393720</td>\n",
       "    </tr>\n",
       "    <tr>\n",
       "      <th>6</th>\n",
       "      <td>RM</td>\n",
       "      <td>1.933744</td>\n",
       "    </tr>\n",
       "    <tr>\n",
       "      <th>7</th>\n",
       "      <td>AGE</td>\n",
       "      <td>3.100826</td>\n",
       "    </tr>\n",
       "    <tr>\n",
       "      <th>8</th>\n",
       "      <td>DIS</td>\n",
       "      <td>3.955945</td>\n",
       "    </tr>\n",
       "    <tr>\n",
       "      <th>9</th>\n",
       "      <td>RAD</td>\n",
       "      <td>7.484496</td>\n",
       "    </tr>\n",
       "    <tr>\n",
       "      <th>10</th>\n",
       "      <td>TAX</td>\n",
       "      <td>9.008554</td>\n",
       "    </tr>\n",
       "    <tr>\n",
       "      <th>11</th>\n",
       "      <td>PTRATTO</td>\n",
       "      <td>1.799084</td>\n",
       "    </tr>\n",
       "    <tr>\n",
       "      <th>12</th>\n",
       "      <td>B</td>\n",
       "      <td>1.348521</td>\n",
       "    </tr>\n",
       "    <tr>\n",
       "      <th>13</th>\n",
       "      <td>LSTAT</td>\n",
       "      <td>2.941491</td>\n",
       "    </tr>\n",
       "  </tbody>\n",
       "</table>\n",
       "</div>"
      ],
      "text/plain": [
       "   features  VIF Factor\n",
       "0     const  585.265238\n",
       "1      CRIM    1.792192\n",
       "2        ZN    2.298758\n",
       "3     INDUS    3.991596\n",
       "4      CHAS    1.073995\n",
       "5       NOX    4.393720\n",
       "6        RM    1.933744\n",
       "7       AGE    3.100826\n",
       "8       DIS    3.955945\n",
       "9       RAD    7.484496\n",
       "10      TAX    9.008554\n",
       "11  PTRATTO    1.799084\n",
       "12        B    1.348521\n",
       "13    LSTAT    2.941491"
      ]
     },
     "execution_count": 7,
     "metadata": {},
     "output_type": "execute_result"
    }
   ],
   "source": [
    "from statsmodels.stats.outliers_influence import variance_inflation_factor\n",
    "X = sm.add_constant(data)\n",
    "vif = pd.DataFrame()\n",
    "vif['features'] = X.columns\n",
    "vif[\"VIF Factor\"] = [variance_inflation_factor(X.values,i) for i in range(X.shape[1])]\n",
    "vif"
   ]
  },
  {
   "cell_type": "markdown",
   "id": "f34f25b8",
   "metadata": {},
   "source": [
    "第一行const一般只参与计算，不参与比较，可以看到，所有变量VIF值均在10以内，基本不存在共线性。\\\n",
    "若存在多重共线性问题，可进行变量筛选或者使用逐步回归进行辅助筛选。"
   ]
  },
  {
   "cell_type": "markdown",
   "id": "db43363f",
   "metadata": {},
   "source": [
    "#### 2、线性相关性检验\n",
    "图形法"
   ]
  },
  {
   "cell_type": "code",
   "execution_count": 8,
   "id": "d7793c74",
   "metadata": {
    "scrolled": false
   },
   "outputs": [
    {
     "data": {
      "image/png": "[encoded data removed]",
      "text/plain": [
       "<Figure size 720x720 with 20 Axes>"
      ]
     },
     "metadata": {
      "needs_background": "light"
     },
     "output_type": "display_data"
    }
   ],
   "source": [
    "import seaborn as sns\n",
    "import scipy.stats as stats\n",
    "sns.pairplot(data_boston.iloc[:,[0,1,2,3]]) #去除哑变量\n",
    "plt.show()"
   ]
  },
  {
   "cell_type": "markdown",
   "id": "d19d249a",
   "metadata": {},
   "source": [
    "可以看到选取的各变量之间散点图呈水平趋势，说明基本不存在相关关系\n",
    "(也可以看相关系数)"
   ]
  },
  {
   "cell_type": "markdown",
   "id": "2df67ca6",
   "metadata": {},
   "source": [
    "#### 3、模型显著性检验-F检验\n",
    "统计量:\n",
    "$$\n",
    "F=\\dfrac{SSR/p}{SSE/(n-p-1)}\\sim F(p,n-p-1)\n",
    "$$\n",
    "其中，$SSE=\\sum_{i=1}^{n}(y_i-\\hat{y_i})^2$为误差平方和,$SSR=\\sum_{i=1}^{n}(\\hat{y_i}-\\overline{y})^2$为回归离差平方和，p表示自变量个数，n表示观测值个数。 \\\n",
    "假设:\n",
    "$$\n",
    "\\begin{cases}\n",
    "H_0:\\beta _0=\\beta _1=\\dots =\\beta _p=0 \\\\\n",
    "H_1:\\beta _0、\\beta _1、\\dots 、\\beta _p不全为0 \n",
    "\\end{cases}\n",
    "$$"
   ]
  },
  {
   "cell_type": "markdown",
   "id": "c97262d1",
   "metadata": {},
   "source": [
    "#### 4、回归系数显著性检验-t检验\n",
    "统计量:\n",
    "$$\n",
    "t_j=\\dfrac{\\hat{\\beta _j}-\\beta _j}{\\sqrt{c_{jj}}\\hat{\\sigma}}\\sim t(n-p-1)\n",
    "$$\n",
    "其中，$c_{jj}$为$(X^TX)^{-1}$的第$j$个对角线元素，$\\hat{\\sigma}=\\sqrt{\\frac{SSE}{n-p-1}}$ \\\n",
    "假设:\n",
    "$$\n",
    "\\begin{cases}\n",
    "H_0:\\beta _j=0,j=1,2,\\dots ,p \\\\\n",
    "H_1:\\beta _j\\neq 0\n",
    "\\end{cases}\n",
    "$$"
   ]
  },
  {
   "cell_type": "code",
   "execution_count": 9,
   "id": "6d5c70b5",
   "metadata": {},
   "outputs": [
    {
     "data": {
      "text/html": [
       "<div>\n",
       "<style scoped>\n",
       "    .dataframe tbody tr th:only-of-type {\n",
       "        vertical-align: middle;\n",
       "    }\n",
       "\n",
       "    .dataframe tbody tr th {\n",
       "        vertical-align: top;\n",
       "    }\n",
       "\n",
       "    .dataframe thead th {\n",
       "        text-align: right;\n",
       "    }\n",
       "</style>\n",
       "<table border=\"1\" class=\"dataframe\">\n",
       "  <thead>\n",
       "    <tr style=\"text-align: right;\">\n",
       "      <th></th>\n",
       "      <th>CRIM</th>\n",
       "      <th>ZN</th>\n",
       "      <th>INDUS</th>\n",
       "      <th>CHAS</th>\n",
       "      <th>NOX</th>\n",
       "      <th>RM</th>\n",
       "      <th>AGE</th>\n",
       "      <th>DIS</th>\n",
       "      <th>RAD</th>\n",
       "      <th>TAX</th>\n",
       "      <th>PTRATTO</th>\n",
       "      <th>B</th>\n",
       "      <th>LSTAT</th>\n",
       "      <th>MEDV</th>\n",
       "    </tr>\n",
       "  </thead>\n",
       "  <tbody>\n",
       "    <tr>\n",
       "      <th>220</th>\n",
       "      <td>0.35809</td>\n",
       "      <td>0.0</td>\n",
       "      <td>6.20</td>\n",
       "      <td>1.0</td>\n",
       "      <td>0.507</td>\n",
       "      <td>6.951</td>\n",
       "      <td>88.5</td>\n",
       "      <td>2.8617</td>\n",
       "      <td>8.0</td>\n",
       "      <td>307.0</td>\n",
       "      <td>17.4</td>\n",
       "      <td>391.70</td>\n",
       "      <td>9.71</td>\n",
       "      <td>26.7</td>\n",
       "    </tr>\n",
       "    <tr>\n",
       "      <th>71</th>\n",
       "      <td>0.15876</td>\n",
       "      <td>0.0</td>\n",
       "      <td>10.81</td>\n",
       "      <td>0.0</td>\n",
       "      <td>0.413</td>\n",
       "      <td>5.961</td>\n",
       "      <td>17.5</td>\n",
       "      <td>5.2873</td>\n",
       "      <td>4.0</td>\n",
       "      <td>305.0</td>\n",
       "      <td>19.2</td>\n",
       "      <td>376.94</td>\n",
       "      <td>9.88</td>\n",
       "      <td>21.7</td>\n",
       "    </tr>\n",
       "    <tr>\n",
       "      <th>240</th>\n",
       "      <td>0.11329</td>\n",
       "      <td>30.0</td>\n",
       "      <td>4.93</td>\n",
       "      <td>0.0</td>\n",
       "      <td>0.428</td>\n",
       "      <td>6.897</td>\n",
       "      <td>54.3</td>\n",
       "      <td>6.3361</td>\n",
       "      <td>6.0</td>\n",
       "      <td>300.0</td>\n",
       "      <td>16.6</td>\n",
       "      <td>391.25</td>\n",
       "      <td>11.38</td>\n",
       "      <td>22.0</td>\n",
       "    </tr>\n",
       "    <tr>\n",
       "      <th>6</th>\n",
       "      <td>0.08829</td>\n",
       "      <td>12.5</td>\n",
       "      <td>7.87</td>\n",
       "      <td>0.0</td>\n",
       "      <td>0.524</td>\n",
       "      <td>6.012</td>\n",
       "      <td>66.6</td>\n",
       "      <td>5.5605</td>\n",
       "      <td>5.0</td>\n",
       "      <td>311.0</td>\n",
       "      <td>15.2</td>\n",
       "      <td>395.60</td>\n",
       "      <td>12.43</td>\n",
       "      <td>22.9</td>\n",
       "    </tr>\n",
       "    <tr>\n",
       "      <th>417</th>\n",
       "      <td>25.94060</td>\n",
       "      <td>0.0</td>\n",
       "      <td>18.10</td>\n",
       "      <td>0.0</td>\n",
       "      <td>0.679</td>\n",
       "      <td>5.304</td>\n",
       "      <td>89.1</td>\n",
       "      <td>1.6475</td>\n",
       "      <td>24.0</td>\n",
       "      <td>666.0</td>\n",
       "      <td>20.2</td>\n",
       "      <td>127.36</td>\n",
       "      <td>26.64</td>\n",
       "      <td>10.4</td>\n",
       "    </tr>\n",
       "    <tr>\n",
       "      <th>...</th>\n",
       "      <td>...</td>\n",
       "      <td>...</td>\n",
       "      <td>...</td>\n",
       "      <td>...</td>\n",
       "      <td>...</td>\n",
       "      <td>...</td>\n",
       "      <td>...</td>\n",
       "      <td>...</td>\n",
       "      <td>...</td>\n",
       "      <td>...</td>\n",
       "      <td>...</td>\n",
       "      <td>...</td>\n",
       "      <td>...</td>\n",
       "      <td>...</td>\n",
       "    </tr>\n",
       "    <tr>\n",
       "      <th>323</th>\n",
       "      <td>0.28392</td>\n",
       "      <td>0.0</td>\n",
       "      <td>7.38</td>\n",
       "      <td>0.0</td>\n",
       "      <td>0.493</td>\n",
       "      <td>5.708</td>\n",
       "      <td>74.3</td>\n",
       "      <td>4.7211</td>\n",
       "      <td>5.0</td>\n",
       "      <td>287.0</td>\n",
       "      <td>19.6</td>\n",
       "      <td>391.13</td>\n",
       "      <td>11.74</td>\n",
       "      <td>18.5</td>\n",
       "    </tr>\n",
       "    <tr>\n",
       "      <th>192</th>\n",
       "      <td>0.08664</td>\n",
       "      <td>45.0</td>\n",
       "      <td>3.44</td>\n",
       "      <td>0.0</td>\n",
       "      <td>0.437</td>\n",
       "      <td>7.178</td>\n",
       "      <td>26.3</td>\n",
       "      <td>6.4798</td>\n",
       "      <td>5.0</td>\n",
       "      <td>398.0</td>\n",
       "      <td>15.2</td>\n",
       "      <td>390.49</td>\n",
       "      <td>2.87</td>\n",
       "      <td>36.4</td>\n",
       "    </tr>\n",
       "    <tr>\n",
       "      <th>117</th>\n",
       "      <td>0.15098</td>\n",
       "      <td>0.0</td>\n",
       "      <td>10.01</td>\n",
       "      <td>0.0</td>\n",
       "      <td>0.547</td>\n",
       "      <td>6.021</td>\n",
       "      <td>82.6</td>\n",
       "      <td>2.7474</td>\n",
       "      <td>6.0</td>\n",
       "      <td>432.0</td>\n",
       "      <td>17.8</td>\n",
       "      <td>394.51</td>\n",
       "      <td>10.30</td>\n",
       "      <td>19.2</td>\n",
       "    </tr>\n",
       "    <tr>\n",
       "      <th>47</th>\n",
       "      <td>0.22927</td>\n",
       "      <td>0.0</td>\n",
       "      <td>6.91</td>\n",
       "      <td>0.0</td>\n",
       "      <td>0.448</td>\n",
       "      <td>6.030</td>\n",
       "      <td>85.5</td>\n",
       "      <td>5.6894</td>\n",
       "      <td>3.0</td>\n",
       "      <td>233.0</td>\n",
       "      <td>17.9</td>\n",
       "      <td>392.74</td>\n",
       "      <td>18.80</td>\n",
       "      <td>16.6</td>\n",
       "    </tr>\n",
       "    <tr>\n",
       "      <th>172</th>\n",
       "      <td>0.13914</td>\n",
       "      <td>0.0</td>\n",
       "      <td>4.05</td>\n",
       "      <td>0.0</td>\n",
       "      <td>0.510</td>\n",
       "      <td>5.572</td>\n",
       "      <td>88.5</td>\n",
       "      <td>2.5961</td>\n",
       "      <td>5.0</td>\n",
       "      <td>296.0</td>\n",
       "      <td>16.6</td>\n",
       "      <td>396.90</td>\n",
       "      <td>14.69</td>\n",
       "      <td>23.1</td>\n",
       "    </tr>\n",
       "  </tbody>\n",
       "</table>\n",
       "<p>404 rows × 14 columns</p>\n",
       "</div>"
      ],
      "text/plain": [
       "         CRIM    ZN  INDUS  CHAS    NOX     RM   AGE     DIS   RAD    TAX  \\\n",
       "220   0.35809   0.0   6.20   1.0  0.507  6.951  88.5  2.8617   8.0  307.0   \n",
       "71    0.15876   0.0  10.81   0.0  0.413  5.961  17.5  5.2873   4.0  305.0   \n",
       "240   0.11329  30.0   4.93   0.0  0.428  6.897  54.3  6.3361   6.0  300.0   \n",
       "6     0.08829  12.5   7.87   0.0  0.524  6.012  66.6  5.5605   5.0  311.0   \n",
       "417  25.94060   0.0  18.10   0.0  0.679  5.304  89.1  1.6475  24.0  666.0   \n",
       "..        ...   ...    ...   ...    ...    ...   ...     ...   ...    ...   \n",
       "323   0.28392   0.0   7.38   0.0  0.493  5.708  74.3  4.7211   5.0  287.0   \n",
       "192   0.08664  45.0   3.44   0.0  0.437  7.178  26.3  6.4798   5.0  398.0   \n",
       "117   0.15098   0.0  10.01   0.0  0.547  6.021  82.6  2.7474   6.0  432.0   \n",
       "47    0.22927   0.0   6.91   0.0  0.448  6.030  85.5  5.6894   3.0  233.0   \n",
       "172   0.13914   0.0   4.05   0.0  0.510  5.572  88.5  2.5961   5.0  296.0   \n",
       "\n",
       "     PTRATTO       B  LSTAT  MEDV  \n",
       "220     17.4  391.70   9.71  26.7  \n",
       "71      19.2  376.94   9.88  21.7  \n",
       "240     16.6  391.25  11.38  22.0  \n",
       "6       15.2  395.60  12.43  22.9  \n",
       "417     20.2  127.36  26.64  10.4  \n",
       "..       ...     ...    ...   ...  \n",
       "323     19.6  391.13  11.74  18.5  \n",
       "192     15.2  390.49   2.87  36.4  \n",
       "117     17.8  394.51  10.30  19.2  \n",
       "47      17.9  392.74  18.80  16.6  \n",
       "172     16.6  396.90  14.69  23.1  \n",
       "\n",
       "[404 rows x 14 columns]"
      ]
     },
     "execution_count": 9,
     "metadata": {},
     "output_type": "execute_result"
    }
   ],
   "source": [
    "from sklearn.model_selection import train_test_split\n",
    "x_train, x_test, y_train, y_test = train_test_split(data, target, test_size=0.2, random_state=0)\n",
    "data_train = pd.concat([x_train,y_train],axis=1)\n",
    "data_train"
   ]
  },
  {
   "cell_type": "code",
   "execution_count": 10,
   "id": "0817402b",
   "metadata": {},
   "outputs": [
    {
     "data": {
      "text/html": [
       "<table class=\"simpletable\">\n",
       "<caption>OLS Regression Results</caption>\n",
       "<tr>\n",
       "  <th>Dep. Variable:</th>          <td>MEDV</td>       <th>  R-squared:         </th> <td>   0.773</td> \n",
       "</tr>\n",
       "<tr>\n",
       "  <th>Model:</th>                   <td>OLS</td>       <th>  Adj. R-squared:    </th> <td>   0.765</td> \n",
       "</tr>\n",
       "<tr>\n",
       "  <th>Method:</th>             <td>Least Squares</td>  <th>  F-statistic:       </th> <td>   102.2</td> \n",
       "</tr>\n",
       "<tr>\n",
       "  <th>Date:</th>             <td>Thu, 08 Sep 2022</td> <th>  Prob (F-statistic):</th> <td>9.64e-117</td>\n",
       "</tr>\n",
       "<tr>\n",
       "  <th>Time:</th>                 <td>10:52:17</td>     <th>  Log-Likelihood:    </th> <td> -1171.5</td> \n",
       "</tr>\n",
       "<tr>\n",
       "  <th>No. Observations:</th>      <td>   404</td>      <th>  AIC:               </th> <td>   2371.</td> \n",
       "</tr>\n",
       "<tr>\n",
       "  <th>Df Residuals:</th>          <td>   390</td>      <th>  BIC:               </th> <td>   2427.</td> \n",
       "</tr>\n",
       "<tr>\n",
       "  <th>Df Model:</th>              <td>    13</td>      <th>                     </th>     <td> </td>    \n",
       "</tr>\n",
       "<tr>\n",
       "  <th>Covariance Type:</th>      <td>nonrobust</td>    <th>                     </th>     <td> </td>    \n",
       "</tr>\n",
       "</table>\n",
       "<table class=\"simpletable\">\n",
       "<tr>\n",
       "      <td></td>         <th>coef</th>     <th>std err</th>      <th>t</th>      <th>P>|t|</th>  <th>[0.025</th>    <th>0.975]</th>  \n",
       "</tr>\n",
       "<tr>\n",
       "  <th>Intercept</th> <td>   38.0917</td> <td>    5.522</td> <td>    6.898</td> <td> 0.000</td> <td>   27.234</td> <td>   48.949</td>\n",
       "</tr>\n",
       "<tr>\n",
       "  <th>CRIM</th>      <td>   -0.1194</td> <td>    0.037</td> <td>   -3.257</td> <td> 0.001</td> <td>   -0.192</td> <td>   -0.047</td>\n",
       "</tr>\n",
       "<tr>\n",
       "  <th>ZN</th>        <td>    0.0448</td> <td>    0.014</td> <td>    3.102</td> <td> 0.002</td> <td>    0.016</td> <td>    0.073</td>\n",
       "</tr>\n",
       "<tr>\n",
       "  <th>INDUS</th>     <td>    0.0055</td> <td>    0.063</td> <td>    0.087</td> <td> 0.931</td> <td>   -0.119</td> <td>    0.130</td>\n",
       "</tr>\n",
       "<tr>\n",
       "  <th>CHAS</th>      <td>    2.3408</td> <td>    0.902</td> <td>    2.595</td> <td> 0.010</td> <td>    0.567</td> <td>    4.115</td>\n",
       "</tr>\n",
       "<tr>\n",
       "  <th>NOX</th>       <td>  -16.1236</td> <td>    4.212</td> <td>   -3.828</td> <td> 0.000</td> <td>  -24.404</td> <td>   -7.843</td>\n",
       "</tr>\n",
       "<tr>\n",
       "  <th>RM</th>        <td>    3.7087</td> <td>    0.458</td> <td>    8.106</td> <td> 0.000</td> <td>    2.809</td> <td>    4.608</td>\n",
       "</tr>\n",
       "<tr>\n",
       "  <th>AGE</th>       <td>   -0.0031</td> <td>    0.014</td> <td>   -0.218</td> <td> 0.828</td> <td>   -0.031</td> <td>    0.025</td>\n",
       "</tr>\n",
       "<tr>\n",
       "  <th>DIS</th>       <td>   -1.3864</td> <td>    0.214</td> <td>   -6.480</td> <td> 0.000</td> <td>   -1.807</td> <td>   -0.966</td>\n",
       "</tr>\n",
       "<tr>\n",
       "  <th>RAD</th>       <td>    0.2442</td> <td>    0.070</td> <td>    3.481</td> <td> 0.001</td> <td>    0.106</td> <td>    0.382</td>\n",
       "</tr>\n",
       "<tr>\n",
       "  <th>TAX</th>       <td>   -0.0110</td> <td>    0.004</td> <td>   -2.819</td> <td> 0.005</td> <td>   -0.019</td> <td>   -0.003</td>\n",
       "</tr>\n",
       "<tr>\n",
       "  <th>PTRATTO</th>   <td>   -1.0459</td> <td>    0.137</td> <td>   -7.636</td> <td> 0.000</td> <td>   -1.315</td> <td>   -0.777</td>\n",
       "</tr>\n",
       "<tr>\n",
       "  <th>B</th>         <td>    0.0081</td> <td>    0.003</td> <td>    2.749</td> <td> 0.006</td> <td>    0.002</td> <td>    0.014</td>\n",
       "</tr>\n",
       "<tr>\n",
       "  <th>LSTAT</th>     <td>   -0.4928</td> <td>    0.054</td> <td>   -9.086</td> <td> 0.000</td> <td>   -0.599</td> <td>   -0.386</td>\n",
       "</tr>\n",
       "</table>\n",
       "<table class=\"simpletable\">\n",
       "<tr>\n",
       "  <th>Omnibus:</th>       <td>141.494</td> <th>  Durbin-Watson:     </th> <td>   1.996</td> \n",
       "</tr>\n",
       "<tr>\n",
       "  <th>Prob(Omnibus):</th> <td> 0.000</td>  <th>  Jarque-Bera (JB):  </th> <td> 629.882</td> \n",
       "</tr>\n",
       "<tr>\n",
       "  <th>Skew:</th>          <td> 1.470</td>  <th>  Prob(JB):          </th> <td>1.67e-137</td>\n",
       "</tr>\n",
       "<tr>\n",
       "  <th>Kurtosis:</th>      <td> 8.365</td>  <th>  Cond. No.          </th> <td>1.55e+04</td> \n",
       "</tr>\n",
       "</table><br/><br/>Notes:<br/>[1] Standard Errors assume that the covariance matrix of the errors is correctly specified.<br/>[2] The condition number is large, 1.55e+04. This might indicate that there are<br/>strong multicollinearity or other numerical problems."
      ],
      "text/plain": [
       "<class 'statsmodels.iolib.summary.Summary'>\n",
       "\"\"\"\n",
       "                            OLS Regression Results                            \n",
       "==============================================================================\n",
       "Dep. Variable:                   MEDV   R-squared:                       0.773\n",
       "Model:                            OLS   Adj. R-squared:                  0.765\n",
       "Method:                 Least Squares   F-statistic:                     102.2\n",
       "Date:                Thu, 08 Sep 2022   Prob (F-statistic):          9.64e-117\n",
       "Time:                        10:52:17   Log-Likelihood:                -1171.5\n",
       "No. Observations:                 404   AIC:                             2371.\n",
       "Df Residuals:                     390   BIC:                             2427.\n",
       "Df Model:                          13                                         \n",
       "Covariance Type:            nonrobust                                         \n",
       "==============================================================================\n",
       "                 coef    std err          t      P>|t|      [0.025      0.975]\n",
       "------------------------------------------------------------------------------\n",
       "Intercept     38.0917      5.522      6.898      0.000      27.234      48.949\n",
       "CRIM          -0.1194      0.037     -3.257      0.001      -0.192      -0.047\n",
       "ZN             0.0448      0.014      3.102      0.002       0.016       0.073\n",
       "INDUS          0.0055      0.063      0.087      0.931      -0.119       0.130\n",
       "CHAS           2.3408      0.902      2.595      0.010       0.567       4.115\n",
       "NOX          -16.1236      4.212     -3.828      0.000     -24.404      -7.843\n",
       "RM             3.7087      0.458      8.106      0.000       2.809       4.608\n",
       "AGE           -0.0031      0.014     -0.218      0.828      -0.031       0.025\n",
       "DIS           -1.3864      0.214     -6.480      0.000      -1.807      -0.966\n",
       "RAD            0.2442      0.070      3.481      0.001       0.106       0.382\n",
       "TAX           -0.0110      0.004     -2.819      0.005      -0.019      -0.003\n",
       "PTRATTO       -1.0459      0.137     -7.636      0.000      -1.315      -0.777\n",
       "B              0.0081      0.003      2.749      0.006       0.002       0.014\n",
       "LSTAT         -0.4928      0.054     -9.086      0.000      -0.599      -0.386\n",
       "==============================================================================\n",
       "Omnibus:                      141.494   Durbin-Watson:                   1.996\n",
       "Prob(Omnibus):                  0.000   Jarque-Bera (JB):              629.882\n",
       "Skew:                           1.470   Prob(JB):                    1.67e-137\n",
       "Kurtosis:                       8.365   Cond. No.                     1.55e+04\n",
       "==============================================================================\n",
       "\n",
       "Notes:\n",
       "[1] Standard Errors assume that the covariance matrix of the errors is correctly specified.\n",
       "[2] The condition number is large, 1.55e+04. This might indicate that there are\n",
       "strong multicollinearity or other numerical problems.\n",
       "\"\"\""
      ]
     },
     "execution_count": 10,
     "metadata": {},
     "output_type": "execute_result"
    }
   ],
   "source": [
    "model = sm.formula.ols('MEDV~CRIM+ZN+INDUS+CHAS+NOX+RM+AGE+DIS+RAD+TAX+PTRATTO+B+LSTAT',data=data_train).fit()\n",
    "model.summary()"
   ]
  },
  {
   "cell_type": "markdown",
   "id": "fa74e2c4",
   "metadata": {},
   "source": [
    "通过上面的summary可以知道模型显著性较强，INDUS和AGE回归系数显著性较弱。"
   ]
  },
  {
   "cell_type": "markdown",
   "id": "2035b7ab",
   "metadata": {},
   "source": [
    "#### 5、异常样本检验\n",
    "#####  （1）帽子矩阵\n",
    "帽子矩阵考察的是第$i$个样本对观测值$\\hat{y}$的影响大小\n",
    "$$\n",
    "\\hat{y}=X\\hat{\\beta}=X(X^TX)^{-1}X^Ty=Hy\n",
    "$$\n",
    "其中$H=X(X^TX)^{-1}X^T$就是帽子矩阵，样本为异常值的判断方法为:\n",
    "$$\n",
    "h_{ii}\\ge \\dfrac{2(p+1)}{n}\n",
    "$$\n",
    "其中$h_{ii}$为帽子矩阵H的第$i$个主对角线元素，p为自变量个数，n为样本数。\n",
    "##### （2）DFFITS准则\n",
    "该统计量同样根据帽子矩阵构造:\n",
    "$$\n",
    "D_j(\\sigma)=\\sqrt{\\dfrac{h_{ii}}{1-h_{ii}}}\\dfrac{\\varepsilon _i}{\\sigma \\sqrt{1-h_{ii}}}\n",
    "$$\n",
    "其中$\\varepsilon _i$为第$i$个样本点的预测误差，$\\varepsilon$为误差项的标准差，样本异常值的判断方法为:\n",
    "$$\n",
    "|D_j(\\sigma)|>2\\sqrt{\\dfrac{p+1}{n}}\n",
    "$$\n",
    "##### （3）学生化残差\n",
    "判断方法为\n",
    "$$\n",
    "r_i=\\dfrac{\\varepsilon _i}{\\sigma \\sqrt{1-h_{ii}}}>2\n",
    "$$\n",
    "##### （4）Cook距离\n",
    "Cook距离没有具体的临界值判断样本是否为异常点，Cook统计量越大，是异常点的可能性越大。\n",
    "$$\n",
    "Distance_i=\\dfrac{1}{p+1}(\\dfrac{h_{ii}}{1-h_{ii}})r_i^2\n",
    "$$\n",
    "其中$r_i$为学生化残差"
   ]
  },
  {
   "cell_type": "code",
   "execution_count": 11,
   "id": "fc9eb94c",
   "metadata": {},
   "outputs": [
    {
     "name": "stdout",
     "output_type": "stream",
     "text": [
      "0.04950495049504951\n"
     ]
    }
   ],
   "source": [
    "#异常值检验\n",
    "outliers=model.get_influence()\n",
    "\n",
    "#帽子矩阵\n",
    "leverage=outliers.hat_matrix_diag\n",
    "#DFFITS值\n",
    "dffits=outliers.dffits[0]\n",
    "#学生化残差\n",
    "resid_stu=outliers.resid_studentized_external\n",
    "#cook距离\n",
    "cook=outliers.cooks_distance[0]\n",
    "#合并各种异常值检验的统计量值\n",
    "contat1=pd.concat([pd.Series(leverage,name='leverage'),pd.Series(dffits,name='dffits'),\n",
    "                   pd.Series(resid_stu,name='resid_stu'),pd.Series(cook,name='cook')],axis=1)\n",
    "data_train.index = range(data_train.shape[0])\n",
    "#合并数据和异常值\n",
    "pred_outliers=pd.concat([data_train,contat1],axis=1)\n",
    "\n",
    "#计算异常值数量的比例，以学生化残差为例\n",
    "outliers_ratio=sum(np.where((np.abs(pred_outliers.resid_stu)>2),1,0))/data_train.shape[0]\n",
    "print(outliers_ratio)"
   ]
  },
  {
   "cell_type": "markdown",
   "id": "66be15be",
   "metadata": {},
   "source": [
    "一般来说，若异常样本比例小于5%，可以直接删除 \\\n",
    "下面使用非异常样本进行建模"
   ]
  },
  {
   "cell_type": "code",
   "execution_count": 14,
   "id": "2c30b394",
   "metadata": {},
   "outputs": [
    {
     "data": {
      "text/html": [
       "<table class=\"simpletable\">\n",
       "<caption>OLS Regression Results</caption>\n",
       "<tr>\n",
       "  <th>Dep. Variable:</th>          <td>MEDV</td>       <th>  R-squared:         </th> <td>   0.853</td> \n",
       "</tr>\n",
       "<tr>\n",
       "  <th>Model:</th>                   <td>OLS</td>       <th>  Adj. R-squared:    </th> <td>   0.848</td> \n",
       "</tr>\n",
       "<tr>\n",
       "  <th>Method:</th>             <td>Least Squares</td>  <th>  F-statistic:       </th> <td>   195.8</td> \n",
       "</tr>\n",
       "<tr>\n",
       "  <th>Date:</th>             <td>Thu, 08 Sep 2022</td> <th>  Prob (F-statistic):</th> <td>3.11e-147</td>\n",
       "</tr>\n",
       "<tr>\n",
       "  <th>Time:</th>                 <td>11:40:57</td>     <th>  Log-Likelihood:    </th> <td> -984.10</td> \n",
       "</tr>\n",
       "<tr>\n",
       "  <th>No. Observations:</th>      <td>   384</td>      <th>  AIC:               </th> <td>   1992.</td> \n",
       "</tr>\n",
       "<tr>\n",
       "  <th>Df Residuals:</th>          <td>   372</td>      <th>  BIC:               </th> <td>   2040.</td> \n",
       "</tr>\n",
       "<tr>\n",
       "  <th>Df Model:</th>              <td>    11</td>      <th>                     </th>     <td> </td>    \n",
       "</tr>\n",
       "<tr>\n",
       "  <th>Covariance Type:</th>      <td>nonrobust</td>    <th>                     </th>     <td> </td>    \n",
       "</tr>\n",
       "</table>\n",
       "<table class=\"simpletable\">\n",
       "<tr>\n",
       "      <td></td>         <th>coef</th>     <th>std err</th>      <th>t</th>      <th>P>|t|</th>  <th>[0.025</th>    <th>0.975]</th>  \n",
       "</tr>\n",
       "<tr>\n",
       "  <th>Intercept</th> <td>   21.7771</td> <td>    4.321</td> <td>    5.039</td> <td> 0.000</td> <td>   13.280</td> <td>   30.274</td>\n",
       "</tr>\n",
       "<tr>\n",
       "  <th>CRIM</th>      <td>   -0.1316</td> <td>    0.027</td> <td>   -4.861</td> <td> 0.000</td> <td>   -0.185</td> <td>   -0.078</td>\n",
       "</tr>\n",
       "<tr>\n",
       "  <th>ZN</th>        <td>    0.0437</td> <td>    0.010</td> <td>    4.164</td> <td> 0.000</td> <td>    0.023</td> <td>    0.064</td>\n",
       "</tr>\n",
       "<tr>\n",
       "  <th>CHAS</th>      <td>    1.4907</td> <td>    0.689</td> <td>    2.165</td> <td> 0.031</td> <td>    0.137</td> <td>    2.845</td>\n",
       "</tr>\n",
       "<tr>\n",
       "  <th>NOX</th>       <td>  -10.3269</td> <td>    2.830</td> <td>   -3.650</td> <td> 0.000</td> <td>  -15.891</td> <td>   -4.763</td>\n",
       "</tr>\n",
       "<tr>\n",
       "  <th>RM</th>        <td>    4.7143</td> <td>    0.378</td> <td>   12.473</td> <td> 0.000</td> <td>    3.971</td> <td>    5.457</td>\n",
       "</tr>\n",
       "<tr>\n",
       "  <th>DIS</th>       <td>   -0.9461</td> <td>    0.148</td> <td>   -6.376</td> <td> 0.000</td> <td>   -1.238</td> <td>   -0.654</td>\n",
       "</tr>\n",
       "<tr>\n",
       "  <th>RAD</th>       <td>    0.2043</td> <td>    0.049</td> <td>    4.195</td> <td> 0.000</td> <td>    0.109</td> <td>    0.300</td>\n",
       "</tr>\n",
       "<tr>\n",
       "  <th>TAX</th>       <td>   -0.0119</td> <td>    0.003</td> <td>   -4.702</td> <td> 0.000</td> <td>   -0.017</td> <td>   -0.007</td>\n",
       "</tr>\n",
       "<tr>\n",
       "  <th>PTRATTO</th>   <td>   -0.9057</td> <td>    0.098</td> <td>   -9.233</td> <td> 0.000</td> <td>   -1.099</td> <td>   -0.713</td>\n",
       "</tr>\n",
       "<tr>\n",
       "  <th>B</th>         <td>    0.0111</td> <td>    0.002</td> <td>    5.180</td> <td> 0.000</td> <td>    0.007</td> <td>    0.015</td>\n",
       "</tr>\n",
       "<tr>\n",
       "  <th>LSTAT</th>     <td>   -0.3677</td> <td>    0.040</td> <td>   -9.101</td> <td> 0.000</td> <td>   -0.447</td> <td>   -0.288</td>\n",
       "</tr>\n",
       "</table>\n",
       "<table class=\"simpletable\">\n",
       "<tr>\n",
       "  <th>Omnibus:</th>       <td>14.768</td> <th>  Durbin-Watson:     </th> <td>   2.076</td>\n",
       "</tr>\n",
       "<tr>\n",
       "  <th>Prob(Omnibus):</th> <td> 0.001</td> <th>  Jarque-Bera (JB):  </th> <td>  15.399</td>\n",
       "</tr>\n",
       "<tr>\n",
       "  <th>Skew:</th>          <td> 0.478</td> <th>  Prob(JB):          </th> <td>0.000453</td>\n",
       "</tr>\n",
       "<tr>\n",
       "  <th>Kurtosis:</th>      <td> 3.218</td> <th>  Cond. No.          </th> <td>1.58e+04</td>\n",
       "</tr>\n",
       "</table><br/><br/>Notes:<br/>[1] Standard Errors assume that the covariance matrix of the errors is correctly specified.<br/>[2] The condition number is large, 1.58e+04. This might indicate that there are<br/>strong multicollinearity or other numerical problems."
      ],
      "text/plain": [
       "<class 'statsmodels.iolib.summary.Summary'>\n",
       "\"\"\"\n",
       "                            OLS Regression Results                            \n",
       "==============================================================================\n",
       "Dep. Variable:                   MEDV   R-squared:                       0.853\n",
       "Model:                            OLS   Adj. R-squared:                  0.848\n",
       "Method:                 Least Squares   F-statistic:                     195.8\n",
       "Date:                Thu, 08 Sep 2022   Prob (F-statistic):          3.11e-147\n",
       "Time:                        11:40:57   Log-Likelihood:                -984.10\n",
       "No. Observations:                 384   AIC:                             1992.\n",
       "Df Residuals:                     372   BIC:                             2040.\n",
       "Df Model:                          11                                         \n",
       "Covariance Type:            nonrobust                                         \n",
       "==============================================================================\n",
       "                 coef    std err          t      P>|t|      [0.025      0.975]\n",
       "------------------------------------------------------------------------------\n",
       "Intercept     21.7771      4.321      5.039      0.000      13.280      30.274\n",
       "CRIM          -0.1316      0.027     -4.861      0.000      -0.185      -0.078\n",
       "ZN             0.0437      0.010      4.164      0.000       0.023       0.064\n",
       "CHAS           1.4907      0.689      2.165      0.031       0.137       2.845\n",
       "NOX          -10.3269      2.830     -3.650      0.000     -15.891      -4.763\n",
       "RM             4.7143      0.378     12.473      0.000       3.971       5.457\n",
       "DIS           -0.9461      0.148     -6.376      0.000      -1.238      -0.654\n",
       "RAD            0.2043      0.049      4.195      0.000       0.109       0.300\n",
       "TAX           -0.0119      0.003     -4.702      0.000      -0.017      -0.007\n",
       "PTRATTO       -0.9057      0.098     -9.233      0.000      -1.099      -0.713\n",
       "B              0.0111      0.002      5.180      0.000       0.007       0.015\n",
       "LSTAT         -0.3677      0.040     -9.101      0.000      -0.447      -0.288\n",
       "==============================================================================\n",
       "Omnibus:                       14.768   Durbin-Watson:                   2.076\n",
       "Prob(Omnibus):                  0.001   Jarque-Bera (JB):               15.399\n",
       "Skew:                           0.478   Prob(JB):                     0.000453\n",
       "Kurtosis:                       3.218   Cond. No.                     1.58e+04\n",
       "==============================================================================\n",
       "\n",
       "Notes:\n",
       "[1] Standard Errors assume that the covariance matrix of the errors is correctly specified.\n",
       "[2] The condition number is large, 1.58e+04. This might indicate that there are\n",
       "strong multicollinearity or other numerical problems.\n",
       "\"\"\""
      ]
     },
     "execution_count": 14,
     "metadata": {},
     "output_type": "execute_result"
    }
   ],
   "source": [
    "none_outliers = pred_outliers.loc[np.abs(pred_outliers.resid_stu)<=2]\n",
    "model2 = sm.formula.ols('MEDV~CRIM+ZN+CHAS+NOX+RM+DIS+RAD+TAX+PTRATTO+B+LSTAT',data=none_outliers).fit()\n",
    "model2.summary()"
   ]
  },
  {
   "cell_type": "markdown",
   "id": "36351806",
   "metadata": {},
   "source": [
    "#### 6、残差独立性检验\n",
    "通过summary观察Durbin-Watson的值即可，一般为2左右即说明残差之间具有独立性"
   ]
  },
  {
   "cell_type": "markdown",
   "id": "27c3cc46",
   "metadata": {},
   "source": [
    "####  7、残差的方差齐性检验\n",
    "检验残差项的方差不受自变量的变化而影响 \\\n",
    "图形法:"
   ]
  },
  {
   "cell_type": "code",
   "execution_count": 15,
   "id": "26083a5e",
   "metadata": {},
   "outputs": [
    {
     "data": {
      "image/png": "[encoded data removed]",
      "text/plain": [
       "<Figure size 432x288 with 2 Axes>"
      ]
     },
     "metadata": {
      "needs_background": "light"
     },
     "output_type": "display_data"
    }
   ],
   "source": [
    "ax1 = plt.subplot2grid(shape = (2,1) , loc = (0,0)) # 设置第一张子图位置\n",
    "# 散点图绘制\n",
    "ax1.scatter(none_outliers.CRIM, (model2.resid - model2.resid.mean())/model2.resid.std()) #标准化残差和自变量散点图\n",
    "# 添加水平参考线\n",
    "ax1.hlines(y = 0 ,\n",
    "          xmin = none_outliers.CRIM.min(),\n",
    "           xmax = none_outliers.CRIM.max(),\n",
    "           color = 'red',\n",
    "           linestyle = '--'\n",
    "          )\n",
    "ax1.set_xlabel('CRIM')\n",
    "ax1.set_ylabel('Std_Residual')\n",
    "ax2 = plt.subplot2grid(shape = (2,1) , loc = (1,0))\n",
    "ax2.scatter(none_outliers.ZN, (model2.resid - model2.resid.mean())/model2.resid.std())\n",
    "ax2.hlines(y = 0 ,\n",
    "          xmin = none_outliers.ZN.min(),\n",
    "           xmax = none_outliers.ZN.max(),\n",
    "           color = 'magenta',\n",
    "           linestyle = '--'\n",
    "          )\n",
    "ax2.set_xlabel('ZN')\n",
    "ax2.set_ylabel('Std_Residual')\n",
    " \n",
    "# 调整2子图之间距离\n",
    "plt.subplots_adjust(hspace = 0.6,wspace = 0.3)\n",
    "plt.show()"
   ]
  },
  {
   "cell_type": "markdown",
   "id": "1359a732",
   "metadata": {},
   "source": [
    "BP法（拉格朗日乘子检验）"
   ]
  },
  {
   "cell_type": "code",
   "execution_count": 19,
   "id": "e8a383de",
   "metadata": {},
   "outputs": [
    {
     "name": "stdout",
     "output_type": "stream",
     "text": [
      "(48.37255177947496, 1.2250376927223068e-06, 4.874070222089953, 4.714676841609054e-07)\n"
     ]
    }
   ],
   "source": [
    "print(sm.stats.diagnostic.het_breuschpagan(model2.resid,exog_het=model2.model.exog))"
   ]
  },
  {
   "cell_type": "markdown",
   "id": "e7a8284f",
   "metadata": {},
   "source": [
    "上述四个变量分别为LM统计量，p值，F统计量，F统计量的p值，一般来讲p值均小于0.05，证明接受残差方差齐性原假设，即说明残差不受自变量的影响而变化\n",
    "如果残差不满足齐性，可以用两种方法解决：一是模型变换法，即考虑残差与自变量之间的关系，如果残差与自变量x成正比，模型两边同时除以$\\sqrt{x}$如果残差与自变量x的平方成正比，模型两边同时除以x；二是加权最小二乘法，用三种权重进行对比测试(残差绝对值的倒数作为权重、残差平方的倒数作为权重、残差的平方对数与自变量x重新拟合建模得到的拟合值取指数，用指数的倒数作为权重)"
   ]
  },
  {
   "cell_type": "code",
   "execution_count": null,
   "id": "0b316453",
   "metadata": {},
   "outputs": [],
   "source": []
  }
 ],
 "metadata": {
  "kernelspec": {
   "display_name": "Python 3 (ipykernel)",
   "language": "python",
   "name": "python3"
  },
  "language_info": {
   "codemirror_mode": {
    "name": "ipython",
    "version": 3
   },
   "file_extension": ".py",
   "mimetype": "text/x-python",
   "name": "python",
   "nbconvert_exporter": "python",
   "pygments_lexer": "ipython3",
   "version": "3.9.7"
  }
 },
 "nbformat": 4,
 "nbformat_minor": 5
}
